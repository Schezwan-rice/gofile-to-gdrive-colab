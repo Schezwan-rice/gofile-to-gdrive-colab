{
  "nbformat": 4,
  "nbformat_minor": 0,
  "metadata": {
    "colab": {
      "provenance": [],
      "authorship_tag": "ABX9TyMrAWDNkw9qoMuy59D4F6By",
      "include_colab_link": true
    },
    "kernelspec": {
      "name": "python3",
      "display_name": "Python 3"
    },
    "language_info": {
      "name": "python"
    }
  },
  "cells": [
    {
      "cell_type": "markdown",
      "metadata": {
        "id": "view-in-github",
        "colab_type": "text"
      },
      "source": [
        "<a href=\"https://colab.research.google.com/github/Schezwan-rice/gofile-to-gdrive-colab/blob/main/GoFiletoDrive.ipynb\" target=\"_parent\"><img src=\"https://colab.research.google.com/assets/colab-badge.svg\" alt=\"Open In Colab\"/></a>"
      ]
    },
    {
      "cell_type": "markdown",
      "source": [
        "# **GoFile.io to Drive**\n",
        "\n",
        "\n",
        "\n",
        "\n"
      ],
      "metadata": {
        "id": "xKgpzxv0thmN"
      }
    },
    {
      "cell_type": "code",
      "execution_count": null,
      "metadata": {
        "collapsed": true,
        "id": "JcsYl8NWn5Ag",
        "colab": {
          "base_uri": "https://localhost:8080/"
        },
        "outputId": "9a9faab8-bd50-4388-ae2b-bd279bfa25eb"
      },
      "outputs": [
        {
          "output_type": "stream",
          "name": "stdout",
          "text": [
            "Cloning into 'gofile-dl'...\n",
            "remote: Enumerating objects: 27, done.\u001b[K\n",
            "remote: Counting objects: 100% (27/27), done.\u001b[K\n",
            "remote: Compressing objects: 100% (23/23), done.\u001b[K\n",
            "remote: Total 27 (delta 11), reused 13 (delta 4), pack-reused 0\u001b[K\n",
            "Receiving objects: 100% (27/27), 21.83 KiB | 456.00 KiB/s, done.\n",
            "Resolving deltas: 100% (11/11), done.\n",
            "/content/gofile-dl\n",
            "Requirement already satisfied: certifi==2024.2.2 in /usr/local/lib/python3.10/dist-packages (from -r requirements.txt (line 1)) (2024.2.2)\n",
            "Requirement already satisfied: charset-normalizer==3.3.2 in /usr/local/lib/python3.10/dist-packages (from -r requirements.txt (line 2)) (3.3.2)\n",
            "Requirement already satisfied: idna==3.7 in /usr/local/lib/python3.10/dist-packages (from -r requirements.txt (line 3)) (3.7)\n",
            "Requirement already satisfied: pathvalidate==3.2.0 in /usr/local/lib/python3.10/dist-packages (from -r requirements.txt (line 4)) (3.2.0)\n",
            "Requirement already satisfied: requests==2.31.0 in /usr/local/lib/python3.10/dist-packages (from -r requirements.txt (line 5)) (2.31.0)\n",
            "Requirement already satisfied: urllib3==2.2.1 in /usr/local/lib/python3.10/dist-packages (from -r requirements.txt (line 6)) (2.2.1)\n",
            "Drive already mounted at /content/drive; to attempt to forcibly remount, call drive.mount(\"/content/drive\", force_remount=True).\n"
          ]
        }
      ],
      "source": [
        "!git clone https://github.com/Schezwan-rice/gofile-dl\n",
        "%cd /content/gofile-dl/\n",
        "!python -m pip install -r requirements.txt\n",
        "\n",
        "#Mount Gdrive\n",
        "from google.colab import drive\n",
        "drive.mount('/content/drive')\n",
        "\n",
        "#Command\n",
        "import subprocess\n",
        "\n",
        "command = ['python', 'run.py', '-d','/content/drive/MyDrive','https://gofile.io/d/foobar']\n",
        "command[4] = input(\"Paste Gofile.io Link: \")\n",
        "\n",
        "with subprocess.Popen(command, stdout=subprocess.PIPE, stderr=subprocess.PIPE, text=True) as proc:\n",
        "    for line in proc.stdout:\n",
        "        print(f'\\r{line.strip()}', end='')\n",
        "    for line in proc.stderr:\n",
        "        print(f'\\r{line.strip()}', end='')\n",
        "\n",
        "    proc.wait()"
      ]
    }
  ]
}
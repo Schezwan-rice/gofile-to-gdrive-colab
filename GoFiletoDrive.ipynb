{
  "nbformat": 4,
  "nbformat_minor": 0,
  "metadata": {
    "colab": {
      "provenance": [],
      "authorship_tag": "ABX9TyNuOiak3RNhVTBp1hyjtQ52",
      "include_colab_link": true
    },
    "kernelspec": {
      "name": "python3",
      "display_name": "Python 3"
    },
    "language_info": {
      "name": "python"
    }
  },
  "cells": [
    {
      "cell_type": "markdown",
      "metadata": {
        "id": "view-in-github",
        "colab_type": "text"
      },
      "source": [
        "<a href=\"https://colab.research.google.com/github/Schezwan-rice/gofile-to-gdrive-colab/blob/main/GoFiletoDrive.ipynb\" target=\"_parent\"><img src=\"https://colab.research.google.com/assets/colab-badge.svg\" alt=\"Open In Colab\"/></a>"
      ]
    },
    {
      "cell_type": "markdown",
      "source": [
        "# **GoFile.io to Drive**\n",
        "\n",
        "\n",
        "\n",
        "\n"
      ],
      "metadata": {
        "id": "xKgpzxv0thmN"
      }
    },
    {
      "cell_type": "code",
      "execution_count": 1,
      "metadata": {
        "colab": {
          "base_uri": "https://localhost:8080/"
        },
        "id": "JcsYl8NWn5Ag",
        "outputId": "17275666-8efe-44c5-a38b-2ad82fb5fafc"
      },
      "outputs": [
        {
          "output_type": "stream",
          "name": "stdout",
          "text": [
            "Cloning into 'gofile-dl'...\n",
            "remote: Enumerating objects: 24, done.\u001b[K\n",
            "remote: Counting objects: 100% (24/24), done.\u001b[K\n",
            "remote: Compressing objects: 100% (20/20), done.\u001b[K\n",
            "remote: Total 24 (delta 9), reused 15 (delta 4), pack-reused 0\u001b[K\n",
            "Receiving objects: 100% (24/24), 20.15 KiB | 6.72 MiB/s, done.\n",
            "Resolving deltas: 100% (9/9), done.\n"
          ]
        }
      ],
      "source": [
        "!git clone https://github.com/rkwyu/gofile-dl\n",
        "%cd /content/gofile-dl/\n",
        "!python -m pip install -r requirements.txt\n",
        "from google.colab import drive\n",
        "drive.mount('/content/drive')\n",
        "import subprocess\n",
        "\n",
        "# Define the command as a list of arguments\n",
        "command = ['python', 'run.py', 'https://gofile.io/d/foobar', '-d', '../drive/MyDrive']\n",
        "command[2] = input(\"Paste Link: \")\n",
        "\n",
        "# Run the command\n",
        "try:\n",
        "    result = subprocess.run(command, check=True, stdout=subprocess.PIPE, stderr=subprocess.PIPE, text=True)\n",
        "    print('Output:', result.stdout)\n",
        "    print('Errors:', result.stderr)\n",
        "except subprocess.CalledProcessError as e:\n",
        "    print('Error occurred:', e)\n"
      ]
    }
  ]
}